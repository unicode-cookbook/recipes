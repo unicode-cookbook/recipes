{
 "cells": [
  {
   "cell_type": "markdown",
   "metadata": {},
   "source": [
    "# Basics in R"
   ]
  },
  {
   "cell_type": "markdown",
   "metadata": {},
   "source": [
    "[Michael Cysouw](http://cysouw.de/home/index.html)\n",
    "\n",
    "The latest version of this [Jupyter notebook](http://jupyter.org/) is available at [https://github.com/unicode-cookbook/recipes/Basics](https://github.com/unicode-cookbook/recipes/Basics). \n",
    "\n",
    "This use case illustrates orthography profile creation and error reporting in R. More code and examples in [Chapter 8](https://github.com/unicode-cookbook/cookbook).\n",
    "\n",
    "Github renders Jupyter notebooks nicely, so you can copy and paste the code from your browser into your interpreter or scripts. However, if you `git clone` the `recipes` repository and have Jupyter installed on your machine, this file is also executable in your own browser locally. Install [Jupyter](http://jupyter.org/) and run `jupyter notebook` in this directory to get started."
   ]
  },
  {
   "cell_type": "markdown",
   "metadata": {},
   "source": [
    "## Overview\n"
   ]
  },
  {
   "cell_type": "markdown",
   "metadata": {},
   "source": [
    "Let's use the R [qlcData](https://cran.r-project.org/web/packages/qlcData/index.html) package to create an orthography profile and do some error checking.\n",
    "\n",
    "Installation instructures here: [https://github.com/unicode-cookbook/recipes](https://github.com/unicode-cookbook/recipes).\n",
    "\n",
    "For more information, see also [Specifying orthography: harmonization, tokenization and transliteration](https://cran.r-project.org/web/packages/qlcData/vignettes/orthography_processing.html)."
   ]
  },
  {
   "cell_type": "markdown",
   "metadata": {},
   "source": [
    "## Profiles and error reporting"
   ]
  },
  {
   "cell_type": "code",
   "execution_count": 1,
   "metadata": {},
   "outputs": [],
   "source": [
    "library(qlcData)"
   ]
  },
  {
   "cell_type": "markdown",
   "metadata": {},
   "source": [
    "Create some input"
   ]
  },
  {
   "cell_type": "code",
   "execution_count": 2,
   "metadata": {},
   "outputs": [
    {
     "data": {
      "text/html": [
       "<ol class=list-inline>\n",
       "\t<li>'AABB'</li>\n",
       "\t<li>'AАBВ'</li>\n",
       "</ol>\n"
      ],
      "text/latex": [
       "\\begin{enumerate*}\n",
       "\\item 'AABB'\n",
       "\\item 'AАBВ'\n",
       "\\end{enumerate*}\n"
      ],
      "text/markdown": [
       "1. 'AABB'\n",
       "2. 'AАBВ'\n",
       "\n",
       "\n"
      ],
      "text/plain": [
       "[1] \"AABB\" \"AАBВ\""
      ]
     },
     "metadata": {},
     "output_type": "display_data"
    }
   ],
   "source": [
    "test <- c(\"AABB\", \"AАBВ\")\n",
    "test"
   ]
  },
  {
   "cell_type": "markdown",
   "metadata": {},
   "source": [
    "Use the function `write.profile` to produce a basic orthography profile from some data."
   ]
  },
  {
   "cell_type": "code",
   "execution_count": 3,
   "metadata": {},
   "outputs": [
    {
     "data": {
      "text/html": [
       "<table>\n",
       "<thead><tr><th scope=col>Grapheme</th><th scope=col>Frequency</th><th scope=col>Codepoint</th><th scope=col>UnicodeName</th></tr></thead>\n",
       "<tbody>\n",
       "\t<tr><td>A                         </td><td>3                         </td><td>U+0041                    </td><td>LATIN CAPITAL LETTER A    </td></tr>\n",
       "\t<tr><td>B                         </td><td>3                         </td><td>U+0042                    </td><td>LATIN CAPITAL LETTER B    </td></tr>\n",
       "\t<tr><td>А                         </td><td>1                         </td><td>U+0410                    </td><td>CYRILLIC CAPITAL LETTER A </td></tr>\n",
       "\t<tr><td>В                         </td><td>1                         </td><td>U+0412                    </td><td>CYRILLIC CAPITAL LETTER VE</td></tr>\n",
       "</tbody>\n",
       "</table>\n"
      ],
      "text/latex": [
       "\\begin{tabular}{r|llll}\n",
       " Grapheme & Frequency & Codepoint & UnicodeName\\\\\n",
       "\\hline\n",
       "\t A                          & 3                          & U+0041                     & LATIN CAPITAL LETTER A    \\\\\n",
       "\t B                          & 3                          & U+0042                     & LATIN CAPITAL LETTER B    \\\\\n",
       "\t А                          & 1                          & U+0410                     & CYRILLIC CAPITAL LETTER A \\\\\n",
       "\t В                          & 1                          & U+0412                     & CYRILLIC CAPITAL LETTER VE\\\\\n",
       "\\end{tabular}\n"
      ],
      "text/markdown": [
       "\n",
       "Grapheme | Frequency | Codepoint | UnicodeName | \n",
       "|---|---|---|---|\n",
       "| A                          | 3                          | U+0041                     | LATIN CAPITAL LETTER A     | \n",
       "| B                          | 3                          | U+0042                     | LATIN CAPITAL LETTER B     | \n",
       "| А                          | 1                          | U+0410                     | CYRILLIC CAPITAL LETTER A  | \n",
       "| В                          | 1                          | U+0412                     | CYRILLIC CAPITAL LETTER VE | \n",
       "\n",
       "\n"
      ],
      "text/plain": [
       "  Grapheme Frequency Codepoint UnicodeName               \n",
       "1 A        3         U+0041    LATIN CAPITAL LETTER A    \n",
       "2 B        3         U+0042    LATIN CAPITAL LETTER B    \n",
       "3 А        1         U+0410    CYRILLIC CAPITAL LETTER A \n",
       "4 В        1         U+0412    CYRILLIC CAPITAL LETTER VE"
      ]
     },
     "metadata": {},
     "output_type": "display_data"
    }
   ],
   "source": [
    "write.profile(test)"
   ]
  },
  {
   "cell_type": "code",
   "execution_count": 4,
   "metadata": {},
   "outputs": [
    {
     "name": "stderr",
     "output_type": "stream",
     "text": [
      "Warning message in tokenize(test, profile = c(\"A\", \"B\")):\n",
      "“\n",
      "There were unknown characters found in the input data.\n",
      "Check output$errors for a table with all problematic strings.”"
     ]
    },
    {
     "data": {
      "text/html": [
       "<dl>\n",
       "\t<dt>$strings</dt>\n",
       "\t\t<dd><table>\n",
       "<thead><tr><th scope=col>originals</th><th scope=col>tokenized</th></tr></thead>\n",
       "<tbody>\n",
       "\t<tr><td>AABB   </td><td>A A B B</td></tr>\n",
       "\t<tr><td>AАBВ   </td><td>A ⁇ B ⁇</td></tr>\n",
       "</tbody>\n",
       "</table>\n",
       "</dd>\n",
       "\t<dt>$profile</dt>\n",
       "\t\t<dd><table>\n",
       "<thead><tr><th scope=col>Grapheme</th><th scope=col>Frequency</th></tr></thead>\n",
       "<tbody>\n",
       "\t<tr><td>B</td><td>3</td></tr>\n",
       "\t<tr><td>A</td><td>3</td></tr>\n",
       "</tbody>\n",
       "</table>\n",
       "</dd>\n",
       "\t<dt>$errors</dt>\n",
       "\t\t<dd><table>\n",
       "<thead><tr><th></th><th scope=col>originals</th><th scope=col>errors</th></tr></thead>\n",
       "<tbody>\n",
       "\t<tr><th scope=row>2</th><td>AАBВ   </td><td>A ⁇ B ⁇</td></tr>\n",
       "</tbody>\n",
       "</table>\n",
       "</dd>\n",
       "\t<dt>$missing</dt>\n",
       "\t\t<dd><table>\n",
       "<thead><tr><th scope=col>Grapheme</th><th scope=col>Frequency</th><th scope=col>Codepoint</th><th scope=col>UnicodeName</th></tr></thead>\n",
       "<tbody>\n",
       "\t<tr><td>А                         </td><td>1                         </td><td>U+0410                    </td><td>CYRILLIC CAPITAL LETTER A </td></tr>\n",
       "\t<tr><td>В                         </td><td>1                         </td><td>U+0412                    </td><td>CYRILLIC CAPITAL LETTER VE</td></tr>\n",
       "</tbody>\n",
       "</table>\n",
       "</dd>\n",
       "</dl>\n"
      ],
      "text/latex": [
       "\\begin{description}\n",
       "\\item[\\$strings] \\begin{tabular}{r|ll}\n",
       " originals & tokenized\\\\\n",
       "\\hline\n",
       "\t AABB    & A A B B\\\\\n",
       "\t AАBВ    & A ⁇ B ⁇\\\\\n",
       "\\end{tabular}\n",
       "\n",
       "\\item[\\$profile] \\begin{tabular}{r|ll}\n",
       " Grapheme & Frequency\\\\\n",
       "\\hline\n",
       "\t B & 3\\\\\n",
       "\t A & 3\\\\\n",
       "\\end{tabular}\n",
       "\n",
       "\\item[\\$errors] \\begin{tabular}{r|ll}\n",
       "  & originals & errors\\\\\n",
       "\\hline\n",
       "\t2 & AАBВ    & A ⁇ B ⁇\\\\\n",
       "\\end{tabular}\n",
       "\n",
       "\\item[\\$missing] \\begin{tabular}{r|llll}\n",
       " Grapheme & Frequency & Codepoint & UnicodeName\\\\\n",
       "\\hline\n",
       "\t А                          & 1                          & U+0410                     & CYRILLIC CAPITAL LETTER A \\\\\n",
       "\t В                          & 1                          & U+0412                     & CYRILLIC CAPITAL LETTER VE\\\\\n",
       "\\end{tabular}\n",
       "\n",
       "\\end{description}\n"
      ],
      "text/markdown": [
       "$strings\n",
       ":   \n",
       "originals | tokenized | \n",
       "|---|---|\n",
       "| AABB    | A A B B | \n",
       "| AАBВ    | A ⁇ B ⁇ | \n",
       "\n",
       "\n",
       "\n",
       "$profile\n",
       ":   \n",
       "Grapheme | Frequency | \n",
       "|---|---|\n",
       "| B | 3 | \n",
       "| A | 3 | \n",
       "\n",
       "\n",
       "\n",
       "$errors\n",
       ":   \n",
       "| <!--/--> | originals | errors | \n",
       "|---|\n",
       "| 2 | AАBВ    | A ⁇ B ⁇ | \n",
       "\n",
       "\n",
       "\n",
       "$missing\n",
       ":   \n",
       "Grapheme | Frequency | Codepoint | UnicodeName | \n",
       "|---|---|\n",
       "| А                          | 1                          | U+0410                     | CYRILLIC CAPITAL LETTER A  | \n",
       "| В                          | 1                          | U+0412                     | CYRILLIC CAPITAL LETTER VE | \n",
       "\n",
       "\n",
       "\n",
       "\n",
       "\n"
      ],
      "text/plain": [
       "$strings\n",
       "  originals tokenized\n",
       "1      AABB   A A B B\n",
       "2      AАBВ   A ⁇ B ⁇\n",
       "\n",
       "$profile\n",
       "  Grapheme Frequency\n",
       "1        B         3\n",
       "2        A         3\n",
       "\n",
       "$errors\n",
       "  originals  errors\n",
       "2      AАBВ A ⁇ B ⁇\n",
       "\n",
       "$missing\n",
       "  Grapheme Frequency Codepoint                UnicodeName\n",
       "1        А         1    U+0410  CYRILLIC CAPITAL LETTER A\n",
       "2        В         1    U+0412 CYRILLIC CAPITAL LETTER VE\n"
      ]
     },
     "metadata": {},
     "output_type": "display_data"
    }
   ],
   "source": [
    "test <- c(\"AABB\", \"AАBВ\")\n",
    "tokenize(test, profile = c(\"A\", \"B\"))"
   ]
  },
  {
   "cell_type": "markdown",
   "metadata": {},
   "source": [
    "## Different ways to write a profile\n"
   ]
  },
  {
   "cell_type": "code",
   "execution_count": 5,
   "metadata": {},
   "outputs": [
    {
     "data": {
      "text/html": [
       "'ÙÚÛÙÚÛ'"
      ],
      "text/latex": [
       "'ÙÚÛÙÚÛ'"
      ],
      "text/markdown": [
       "'ÙÚÛÙÚÛ'"
      ],
      "text/plain": [
       "[1] \"ÙÚÛÙÚÛ\""
      ]
     },
     "metadata": {},
     "output_type": "display_data"
    }
   ],
   "source": [
    "# example <- \"ÙÚÛÙÚÛ\"\n",
    "example <- '\\u00d9\\u00da\\u00db\\u0055\\u0300\\u0055\\u0301\\u0055\\u0302'\n",
    "example"
   ]
  },
  {
   "cell_type": "code",
   "execution_count": 6,
   "metadata": {},
   "outputs": [
    {
     "data": {
      "text/html": [
       "<table>\n",
       "<thead><tr><th scope=col>Grapheme</th><th scope=col>Frequency</th><th scope=col>Codepoint</th><th scope=col>UnicodeName</th></tr></thead>\n",
       "<tbody>\n",
       "\t<tr><td>Ú                                                  </td><td>1                                                  </td><td>U+00DA                                             </td><td>LATIN CAPITAL LETTER U WITH ACUTE                  </td></tr>\n",
       "\t<tr><td>Ú                                                  </td><td>1                                                  </td><td>U+0055, U+0301                                     </td><td>LATIN CAPITAL LETTER U, COMBINING ACUTE ACCENT     </td></tr>\n",
       "\t<tr><td>Ù                                                  </td><td>1                                                  </td><td>U+00D9                                             </td><td>LATIN CAPITAL LETTER U WITH GRAVE                  </td></tr>\n",
       "\t<tr><td>Ù                                                  </td><td>1                                                  </td><td>U+0055, U+0300                                     </td><td>LATIN CAPITAL LETTER U, COMBINING GRAVE ACCENT     </td></tr>\n",
       "\t<tr><td>Û                                                  </td><td>1                                                  </td><td>U+00DB                                             </td><td>LATIN CAPITAL LETTER U WITH CIRCUMFLEX             </td></tr>\n",
       "\t<tr><td>Û                                                  </td><td>1                                                  </td><td>U+0055, U+0302                                     </td><td>LATIN CAPITAL LETTER U, COMBINING CIRCUMFLEX ACCENT</td></tr>\n",
       "</tbody>\n",
       "</table>\n"
      ],
      "text/latex": [
       "\\begin{tabular}{r|llll}\n",
       " Grapheme & Frequency & Codepoint & UnicodeName\\\\\n",
       "\\hline\n",
       "\t Ú                                                   & 1                                                   & U+00DA                                              & LATIN CAPITAL LETTER U WITH ACUTE                  \\\\\n",
       "\t Ú                                                   & 1                                                   & U+0055, U+0301                                      & LATIN CAPITAL LETTER U, COMBINING ACUTE ACCENT     \\\\\n",
       "\t Ù                                                   & 1                                                   & U+00D9                                              & LATIN CAPITAL LETTER U WITH GRAVE                  \\\\\n",
       "\t Ù                                                   & 1                                                   & U+0055, U+0300                                      & LATIN CAPITAL LETTER U, COMBINING GRAVE ACCENT     \\\\\n",
       "\t Û                                                   & 1                                                   & U+00DB                                              & LATIN CAPITAL LETTER U WITH CIRCUMFLEX             \\\\\n",
       "\t Û                                                   & 1                                                   & U+0055, U+0302                                      & LATIN CAPITAL LETTER U, COMBINING CIRCUMFLEX ACCENT\\\\\n",
       "\\end{tabular}\n"
      ],
      "text/markdown": [
       "\n",
       "Grapheme | Frequency | Codepoint | UnicodeName | \n",
       "|---|---|---|---|---|---|\n",
       "| Ú                                                   | 1                                                   | U+00DA                                              | LATIN CAPITAL LETTER U WITH ACUTE                   | \n",
       "| Ú                                                   | 1                                                   | U+0055, U+0301                                      | LATIN CAPITAL LETTER U, COMBINING ACUTE ACCENT      | \n",
       "| Ù                                                   | 1                                                   | U+00D9                                              | LATIN CAPITAL LETTER U WITH GRAVE                   | \n",
       "| Ù                                                   | 1                                                   | U+0055, U+0300                                      | LATIN CAPITAL LETTER U, COMBINING GRAVE ACCENT      | \n",
       "| Û                                                   | 1                                                   | U+00DB                                              | LATIN CAPITAL LETTER U WITH CIRCUMFLEX              | \n",
       "| Û                                                   | 1                                                   | U+0055, U+0302                                      | LATIN CAPITAL LETTER U, COMBINING CIRCUMFLEX ACCENT | \n",
       "\n",
       "\n"
      ],
      "text/plain": [
       "  Grapheme Frequency Codepoint     \n",
       "1 Ú        1         U+00DA        \n",
       "2 Ú        1         U+0055, U+0301\n",
       "3 Ù        1         U+00D9        \n",
       "4 Ù        1         U+0055, U+0300\n",
       "5 Û        1         U+00DB        \n",
       "6 Û        1         U+0055, U+0302\n",
       "  UnicodeName                                        \n",
       "1 LATIN CAPITAL LETTER U WITH ACUTE                  \n",
       "2 LATIN CAPITAL LETTER U, COMBINING ACUTE ACCENT     \n",
       "3 LATIN CAPITAL LETTER U WITH GRAVE                  \n",
       "4 LATIN CAPITAL LETTER U, COMBINING GRAVE ACCENT     \n",
       "5 LATIN CAPITAL LETTER U WITH CIRCUMFLEX             \n",
       "6 LATIN CAPITAL LETTER U, COMBINING CIRCUMFLEX ACCENT"
      ]
     },
     "metadata": {},
     "output_type": "display_data"
    }
   ],
   "source": [
    "profile_1 <- write.profile(example)\n",
    "profile_1"
   ]
  },
  {
   "cell_type": "code",
   "execution_count": 7,
   "metadata": {},
   "outputs": [
    {
     "data": {
      "text/html": [
       "<table>\n",
       "<thead><tr><th scope=col>Grapheme</th><th scope=col>Frequency</th><th scope=col>Codepoint</th><th scope=col>UnicodeName</th></tr></thead>\n",
       "<tbody>\n",
       "\t<tr><td>́                                      </td><td>1                                     </td><td>U+0301                                </td><td>COMBINING ACUTE ACCENT                </td></tr>\n",
       "\t<tr><td>̀                                      </td><td>1                                     </td><td>U+0300                                </td><td>COMBINING GRAVE ACCENT                </td></tr>\n",
       "\t<tr><td>̂                                      </td><td>1                                     </td><td>U+0302                                </td><td>COMBINING CIRCUMFLEX ACCENT           </td></tr>\n",
       "\t<tr><td>U                                     </td><td>3                                     </td><td>U+0055                                </td><td>LATIN CAPITAL LETTER U                </td></tr>\n",
       "\t<tr><td>Ú                                     </td><td>1                                     </td><td>U+00DA                                </td><td>LATIN CAPITAL LETTER U WITH ACUTE     </td></tr>\n",
       "\t<tr><td>Ù                                     </td><td>1                                     </td><td>U+00D9                                </td><td>LATIN CAPITAL LETTER U WITH GRAVE     </td></tr>\n",
       "\t<tr><td>Û                                     </td><td>1                                     </td><td>U+00DB                                </td><td>LATIN CAPITAL LETTER U WITH CIRCUMFLEX</td></tr>\n",
       "</tbody>\n",
       "</table>\n"
      ],
      "text/latex": [
       "\\begin{tabular}{r|llll}\n",
       " Grapheme & Frequency & Codepoint & UnicodeName\\\\\n",
       "\\hline\n",
       "\t ́                                       & 1                                      & U+0301                                 & COMBINING ACUTE ACCENT                \\\\\n",
       "\t ̀                                       & 1                                      & U+0300                                 & COMBINING GRAVE ACCENT                \\\\\n",
       "\t ̂                                       & 1                                      & U+0302                                 & COMBINING CIRCUMFLEX ACCENT           \\\\\n",
       "\t U                                      & 3                                      & U+0055                                 & LATIN CAPITAL LETTER U                \\\\\n",
       "\t Ú                                      & 1                                      & U+00DA                                 & LATIN CAPITAL LETTER U WITH ACUTE     \\\\\n",
       "\t Ù                                      & 1                                      & U+00D9                                 & LATIN CAPITAL LETTER U WITH GRAVE     \\\\\n",
       "\t Û                                      & 1                                      & U+00DB                                 & LATIN CAPITAL LETTER U WITH CIRCUMFLEX\\\\\n",
       "\\end{tabular}\n"
      ],
      "text/markdown": [
       "\n",
       "Grapheme | Frequency | Codepoint | UnicodeName | \n",
       "|---|---|---|---|---|---|---|\n",
       "| ́                                       | 1                                      | U+0301                                 | COMBINING ACUTE ACCENT                 | \n",
       "| ̀                                       | 1                                      | U+0300                                 | COMBINING GRAVE ACCENT                 | \n",
       "| ̂                                       | 1                                      | U+0302                                 | COMBINING CIRCUMFLEX ACCENT            | \n",
       "| U                                      | 3                                      | U+0055                                 | LATIN CAPITAL LETTER U                 | \n",
       "| Ú                                      | 1                                      | U+00DA                                 | LATIN CAPITAL LETTER U WITH ACUTE      | \n",
       "| Ù                                      | 1                                      | U+00D9                                 | LATIN CAPITAL LETTER U WITH GRAVE      | \n",
       "| Û                                      | 1                                      | U+00DB                                 | LATIN CAPITAL LETTER U WITH CIRCUMFLEX | \n",
       "\n",
       "\n"
      ],
      "text/plain": [
       "  Grapheme Frequency Codepoint UnicodeName                           \n",
       "1 ́         1         U+0301    COMBINING ACUTE ACCENT                \n",
       "2 ̀         1         U+0300    COMBINING GRAVE ACCENT                \n",
       "3 ̂         1         U+0302    COMBINING CIRCUMFLEX ACCENT           \n",
       "4 U        3         U+0055    LATIN CAPITAL LETTER U                \n",
       "5 Ú        1         U+00DA    LATIN CAPITAL LETTER U WITH ACUTE     \n",
       "6 Ù        1         U+00D9    LATIN CAPITAL LETTER U WITH GRAVE     \n",
       "7 Û        1         U+00DB    LATIN CAPITAL LETTER U WITH CIRCUMFLEX"
      ]
     },
     "metadata": {},
     "output_type": "display_data"
    }
   ],
   "source": [
    "profile_2 <- write.profile(example, sep = \"\")\n",
    "profile_2"
   ]
  },
  {
   "cell_type": "code",
   "execution_count": 8,
   "metadata": {},
   "outputs": [
    {
     "data": {
      "text/html": [
       "<table>\n",
       "<thead><tr><th scope=col>Grapheme</th><th scope=col>Frequency</th><th scope=col>Codepoint</th><th scope=col>UnicodeName</th></tr></thead>\n",
       "<tbody>\n",
       "\t<tr><td>Ú                                     </td><td>2                                     </td><td>U+00DA                                </td><td>LATIN CAPITAL LETTER U WITH ACUTE     </td></tr>\n",
       "\t<tr><td>Ù                                     </td><td>2                                     </td><td>U+00D9                                </td><td>LATIN CAPITAL LETTER U WITH GRAVE     </td></tr>\n",
       "\t<tr><td>Û                                     </td><td>2                                     </td><td>U+00DB                                </td><td>LATIN CAPITAL LETTER U WITH CIRCUMFLEX</td></tr>\n",
       "</tbody>\n",
       "</table>\n"
      ],
      "text/latex": [
       "\\begin{tabular}{r|llll}\n",
       " Grapheme & Frequency & Codepoint & UnicodeName\\\\\n",
       "\\hline\n",
       "\t Ú                                      & 2                                      & U+00DA                                 & LATIN CAPITAL LETTER U WITH ACUTE     \\\\\n",
       "\t Ù                                      & 2                                      & U+00D9                                 & LATIN CAPITAL LETTER U WITH GRAVE     \\\\\n",
       "\t Û                                      & 2                                      & U+00DB                                 & LATIN CAPITAL LETTER U WITH CIRCUMFLEX\\\\\n",
       "\\end{tabular}\n"
      ],
      "text/markdown": [
       "\n",
       "Grapheme | Frequency | Codepoint | UnicodeName | \n",
       "|---|---|---|\n",
       "| Ú                                      | 2                                      | U+00DA                                 | LATIN CAPITAL LETTER U WITH ACUTE      | \n",
       "| Ù                                      | 2                                      | U+00D9                                 | LATIN CAPITAL LETTER U WITH GRAVE      | \n",
       "| Û                                      | 2                                      | U+00DB                                 | LATIN CAPITAL LETTER U WITH CIRCUMFLEX | \n",
       "\n",
       "\n"
      ],
      "text/plain": [
       "  Grapheme Frequency Codepoint UnicodeName                           \n",
       "1 Ú        2         U+00DA    LATIN CAPITAL LETTER U WITH ACUTE     \n",
       "2 Ù        2         U+00D9    LATIN CAPITAL LETTER U WITH GRAVE     \n",
       "3 Û        2         U+00DB    LATIN CAPITAL LETTER U WITH CIRCUMFLEX"
      ]
     },
     "metadata": {},
     "output_type": "display_data"
    }
   ],
   "source": [
    "# after NFC normalization unicode codepoints have changed\n",
    "profile_3 <- write.profile(example, normalize = \"NFC\", sep = \"\")\n",
    "profile_3"
   ]
  },
  {
   "cell_type": "code",
   "execution_count": 9,
   "metadata": {},
   "outputs": [
    {
     "data": {
      "text/html": [
       "<table>\n",
       "<thead><tr><th scope=col>Grapheme</th><th scope=col>Frequency</th><th scope=col>Codepoint</th><th scope=col>UnicodeName</th></tr></thead>\n",
       "<tbody>\n",
       "\t<tr><td>́                           </td><td>2                          </td><td>U+0301                     </td><td>COMBINING ACUTE ACCENT     </td></tr>\n",
       "\t<tr><td>̀                           </td><td>2                          </td><td>U+0300                     </td><td>COMBINING GRAVE ACCENT     </td></tr>\n",
       "\t<tr><td>̂                           </td><td>2                          </td><td>U+0302                     </td><td>COMBINING CIRCUMFLEX ACCENT</td></tr>\n",
       "\t<tr><td>U                          </td><td>6                          </td><td>U+0055                     </td><td>LATIN CAPITAL LETTER U     </td></tr>\n",
       "</tbody>\n",
       "</table>\n"
      ],
      "text/latex": [
       "\\begin{tabular}{r|llll}\n",
       " Grapheme & Frequency & Codepoint & UnicodeName\\\\\n",
       "\\hline\n",
       "\t ́                            & 2                           & U+0301                      & COMBINING ACUTE ACCENT     \\\\\n",
       "\t ̀                            & 2                           & U+0300                      & COMBINING GRAVE ACCENT     \\\\\n",
       "\t ̂                            & 2                           & U+0302                      & COMBINING CIRCUMFLEX ACCENT\\\\\n",
       "\t U                           & 6                           & U+0055                      & LATIN CAPITAL LETTER U     \\\\\n",
       "\\end{tabular}\n"
      ],
      "text/markdown": [
       "\n",
       "Grapheme | Frequency | Codepoint | UnicodeName | \n",
       "|---|---|---|---|\n",
       "| ́                            | 2                           | U+0301                      | COMBINING ACUTE ACCENT      | \n",
       "| ̀                            | 2                           | U+0300                      | COMBINING GRAVE ACCENT      | \n",
       "| ̂                            | 2                           | U+0302                      | COMBINING CIRCUMFLEX ACCENT | \n",
       "| U                           | 6                           | U+0055                      | LATIN CAPITAL LETTER U      | \n",
       "\n",
       "\n"
      ],
      "text/plain": [
       "  Grapheme Frequency Codepoint UnicodeName                \n",
       "1 ́         2         U+0301    COMBINING ACUTE ACCENT     \n",
       "2 ̀         2         U+0300    COMBINING GRAVE ACCENT     \n",
       "3 ̂         2         U+0302    COMBINING CIRCUMFLEX ACCENT\n",
       "4 U        6         U+0055    LATIN CAPITAL LETTER U     "
      ]
     },
     "metadata": {},
     "output_type": "display_data"
    }
   ],
   "source": [
    "# NFD normalization gives yet another structure of the codepoints \n",
    "profile_4 <- write.profile(example, normalize = \"NFD\", sep = \"\")\n",
    "profile_4"
   ]
  },
  {
   "cell_type": "code",
   "execution_count": 10,
   "metadata": {},
   "outputs": [
    {
     "data": {
      "text/html": [
       "<table>\n",
       "<thead><tr><th scope=col>Grapheme</th><th scope=col>Frequency</th><th scope=col>Codepoint</th><th scope=col>UnicodeName</th></tr></thead>\n",
       "<tbody>\n",
       "\t<tr><td>Ú                                                  </td><td>2                                                  </td><td>U+0055, U+0301                                     </td><td>LATIN CAPITAL LETTER U, COMBINING ACUTE ACCENT     </td></tr>\n",
       "\t<tr><td>Ù                                                  </td><td>2                                                  </td><td>U+0055, U+0300                                     </td><td>LATIN CAPITAL LETTER U, COMBINING GRAVE ACCENT     </td></tr>\n",
       "\t<tr><td>Û                                                  </td><td>2                                                  </td><td>U+0055, U+0302                                     </td><td>LATIN CAPITAL LETTER U, COMBINING CIRCUMFLEX ACCENT</td></tr>\n",
       "</tbody>\n",
       "</table>\n"
      ],
      "text/latex": [
       "\\begin{tabular}{r|llll}\n",
       " Grapheme & Frequency & Codepoint & UnicodeName\\\\\n",
       "\\hline\n",
       "\t Ú                                                   & 2                                                   & U+0055, U+0301                                      & LATIN CAPITAL LETTER U, COMBINING ACUTE ACCENT     \\\\\n",
       "\t Ù                                                   & 2                                                   & U+0055, U+0300                                      & LATIN CAPITAL LETTER U, COMBINING GRAVE ACCENT     \\\\\n",
       "\t Û                                                   & 2                                                   & U+0055, U+0302                                      & LATIN CAPITAL LETTER U, COMBINING CIRCUMFLEX ACCENT\\\\\n",
       "\\end{tabular}\n"
      ],
      "text/markdown": [
       "\n",
       "Grapheme | Frequency | Codepoint | UnicodeName | \n",
       "|---|---|---|\n",
       "| Ú                                                   | 2                                                   | U+0055, U+0301                                      | LATIN CAPITAL LETTER U, COMBINING ACUTE ACCENT      | \n",
       "| Ù                                                   | 2                                                   | U+0055, U+0300                                      | LATIN CAPITAL LETTER U, COMBINING GRAVE ACCENT      | \n",
       "| Û                                                   | 2                                                   | U+0055, U+0302                                      | LATIN CAPITAL LETTER U, COMBINING CIRCUMFLEX ACCENT | \n",
       "\n",
       "\n"
      ],
      "text/plain": [
       "  Grapheme Frequency Codepoint     \n",
       "1 Ú        2         U+0055, U+0301\n",
       "2 Ù        2         U+0055, U+0300\n",
       "3 Û        2         U+0055, U+0302\n",
       "  UnicodeName                                        \n",
       "1 LATIN CAPITAL LETTER U, COMBINING ACUTE ACCENT     \n",
       "2 LATIN CAPITAL LETTER U, COMBINING GRAVE ACCENT     \n",
       "3 LATIN CAPITAL LETTER U, COMBINING CIRCUMFLEX ACCENT"
      ]
     },
     "metadata": {},
     "output_type": "display_data"
    },
    {
     "data": {
      "text/html": [
       "<table>\n",
       "<thead><tr><th scope=col>Grapheme</th><th scope=col>Frequency</th><th scope=col>Codepoint</th><th scope=col>UnicodeName</th></tr></thead>\n",
       "<tbody>\n",
       "\t<tr><td>Ú                                     </td><td>2                                     </td><td>U+00DA                                </td><td>LATIN CAPITAL LETTER U WITH ACUTE     </td></tr>\n",
       "\t<tr><td>Ù                                     </td><td>2                                     </td><td>U+00D9                                </td><td>LATIN CAPITAL LETTER U WITH GRAVE     </td></tr>\n",
       "\t<tr><td>Û                                     </td><td>2                                     </td><td>U+00DB                                </td><td>LATIN CAPITAL LETTER U WITH CIRCUMFLEX</td></tr>\n",
       "</tbody>\n",
       "</table>\n"
      ],
      "text/latex": [
       "\\begin{tabular}{r|llll}\n",
       " Grapheme & Frequency & Codepoint & UnicodeName\\\\\n",
       "\\hline\n",
       "\t Ú                                      & 2                                      & U+00DA                                 & LATIN CAPITAL LETTER U WITH ACUTE     \\\\\n",
       "\t Ù                                      & 2                                      & U+00D9                                 & LATIN CAPITAL LETTER U WITH GRAVE     \\\\\n",
       "\t Û                                      & 2                                      & U+00DB                                 & LATIN CAPITAL LETTER U WITH CIRCUMFLEX\\\\\n",
       "\\end{tabular}\n"
      ],
      "text/markdown": [
       "\n",
       "Grapheme | Frequency | Codepoint | UnicodeName | \n",
       "|---|---|---|\n",
       "| Ú                                      | 2                                      | U+00DA                                 | LATIN CAPITAL LETTER U WITH ACUTE      | \n",
       "| Ù                                      | 2                                      | U+00D9                                 | LATIN CAPITAL LETTER U WITH GRAVE      | \n",
       "| Û                                      | 2                                      | U+00DB                                 | LATIN CAPITAL LETTER U WITH CIRCUMFLEX | \n",
       "\n",
       "\n"
      ],
      "text/plain": [
       "  Grapheme Frequency Codepoint UnicodeName                           \n",
       "1 Ú        2         U+00DA    LATIN CAPITAL LETTER U WITH ACUTE     \n",
       "2 Ù        2         U+00D9    LATIN CAPITAL LETTER U WITH GRAVE     \n",
       "3 Û        2         U+00DB    LATIN CAPITAL LETTER U WITH CIRCUMFLEX"
      ]
     },
     "metadata": {},
     "output_type": "display_data"
    }
   ],
   "source": [
    "# note that NFC and NFD normalization are identical\n",
    "# for unicode grapheme definitions\n",
    "profile_5 <- write.profile(example, normalize = \"NFD\")\n",
    "profile_5\n",
    "profile_6 <- write.profile(example, normalize = \"NFC\")\n",
    "profile_6"
   ]
  },
  {
   "cell_type": "markdown",
   "metadata": {},
   "source": [
    "## Using an orthography profile skeleton"
   ]
  },
  {
   "cell_type": "code",
   "execution_count": 11,
   "metadata": {},
   "outputs": [
    {
     "data": {
      "text/html": [
       "<ol class=list-inline>\n",
       "\t<li>'mishmash'</li>\n",
       "\t<li>'mishap'</li>\n",
       "\t<li>'mischief'</li>\n",
       "\t<li>'scheme'</li>\n",
       "</ol>\n"
      ],
      "text/latex": [
       "\\begin{enumerate*}\n",
       "\\item 'mishmash'\n",
       "\\item 'mishap'\n",
       "\\item 'mischief'\n",
       "\\item 'scheme'\n",
       "\\end{enumerate*}\n"
      ],
      "text/markdown": [
       "1. 'mishmash'\n",
       "2. 'mishap'\n",
       "3. 'mischief'\n",
       "4. 'scheme'\n",
       "\n",
       "\n"
      ],
      "text/plain": [
       "[1] \"mishmash\" \"mishap\"   \"mischief\" \"scheme\"  "
      ]
     },
     "metadata": {},
     "output_type": "display_data"
    }
   ],
   "source": [
    "# a few words to be graphemically parsed\n",
    "example <- c(\"mishmash\", \"mishap\", \"mischief\", \"scheme\")\n",
    "example"
   ]
  },
  {
   "cell_type": "code",
   "execution_count": 12,
   "metadata": {},
   "outputs": [],
   "source": [
    "# write a profile skeleton to a file\n",
    "write.profile(example, file = \"sandbox/profile_skeleton.txt\")"
   ]
  },
  {
   "cell_type": "code",
   "execution_count": 13,
   "metadata": {},
   "outputs": [
    {
     "data": {
      "text/html": [
       "<table>\n",
       "<thead><tr><th scope=col>originals</th><th scope=col>tokenized</th></tr></thead>\n",
       "<tbody>\n",
       "\t<tr><td>mishmash       </td><td>m i s h m a s h</td></tr>\n",
       "\t<tr><td>mishap         </td><td>m i s h a p    </td></tr>\n",
       "\t<tr><td>mischief       </td><td>m i s c h i e f</td></tr>\n",
       "\t<tr><td>scheme         </td><td>s c h e m e    </td></tr>\n",
       "</tbody>\n",
       "</table>\n"
      ],
      "text/latex": [
       "\\begin{tabular}{r|ll}\n",
       " originals & tokenized\\\\\n",
       "\\hline\n",
       "\t mishmash        & m i s h m a s h\\\\\n",
       "\t mishap          & m i s h a p    \\\\\n",
       "\t mischief        & m i s c h i e f\\\\\n",
       "\t scheme          & s c h e m e    \\\\\n",
       "\\end{tabular}\n"
      ],
      "text/markdown": [
       "\n",
       "originals | tokenized | \n",
       "|---|---|---|---|\n",
       "| mishmash        | m i s h m a s h | \n",
       "| mishap          | m i s h a p     | \n",
       "| mischief        | m i s c h i e f | \n",
       "| scheme          | s c h e m e     | \n",
       "\n",
       "\n"
      ],
      "text/plain": [
       "  originals tokenized      \n",
       "1 mishmash  m i s h m a s h\n",
       "2 mishap    m i s h a p    \n",
       "3 mischief  m i s c h i e f\n",
       "4 scheme    s c h e m e    "
      ]
     },
     "metadata": {},
     "output_type": "display_data"
    }
   ],
   "source": [
    "tokenize(example, profile = \"sandbox/profile_skeleton.txt\")$string"
   ]
  },
  {
   "cell_type": "code",
   "execution_count": 14,
   "metadata": {},
   "outputs": [
    {
     "data": {
      "text/html": [
       "<ol class=list-inline>\n",
       "\t<li>'a'</li>\n",
       "\t<li>'c'</li>\n",
       "\t<li>'e'</li>\n",
       "\t<li>'f'</li>\n",
       "\t<li>'h'</li>\n",
       "\t<li>'i'</li>\n",
       "\t<li>'m'</li>\n",
       "\t<li>'p'</li>\n",
       "\t<li>'s'</li>\n",
       "</ol>\n"
      ],
      "text/latex": [
       "\\begin{enumerate*}\n",
       "\\item 'a'\n",
       "\\item 'c'\n",
       "\\item 'e'\n",
       "\\item 'f'\n",
       "\\item 'h'\n",
       "\\item 'i'\n",
       "\\item 'm'\n",
       "\\item 'p'\n",
       "\\item 's'\n",
       "\\end{enumerate*}\n"
      ],
      "text/markdown": [
       "1. 'a'\n",
       "2. 'c'\n",
       "3. 'e'\n",
       "4. 'f'\n",
       "5. 'h'\n",
       "6. 'i'\n",
       "7. 'm'\n",
       "8. 'p'\n",
       "9. 's'\n",
       "\n",
       "\n"
      ],
      "text/plain": [
       "[1] \"a\" \"c\" \"e\" \"f\" \"h\" \"i\" \"m\" \"p\" \"s\""
      ]
     },
     "metadata": {},
     "output_type": "display_data"
    }
   ],
   "source": [
    "# make a profile, just select the column 'Grapheme'\n",
    "profile <- write.profile(example)[, \"Grapheme\"]\n",
    "profile"
   ]
  },
  {
   "cell_type": "code",
   "execution_count": 15,
   "metadata": {},
   "outputs": [
    {
     "data": {
      "text/html": [
       "<ol class=list-inline>\n",
       "\t<li>'sh'</li>\n",
       "\t<li>'ch'</li>\n",
       "\t<li>'sch'</li>\n",
       "\t<li>'ie'</li>\n",
       "\t<li>'oo'</li>\n",
       "\t<li>'a'</li>\n",
       "\t<li>'c'</li>\n",
       "\t<li>'e'</li>\n",
       "\t<li>'f'</li>\n",
       "\t<li>'h'</li>\n",
       "\t<li>'i'</li>\n",
       "\t<li>'m'</li>\n",
       "\t<li>'p'</li>\n",
       "\t<li>'s'</li>\n",
       "</ol>\n"
      ],
      "text/latex": [
       "\\begin{enumerate*}\n",
       "\\item 'sh'\n",
       "\\item 'ch'\n",
       "\\item 'sch'\n",
       "\\item 'ie'\n",
       "\\item 'oo'\n",
       "\\item 'a'\n",
       "\\item 'c'\n",
       "\\item 'e'\n",
       "\\item 'f'\n",
       "\\item 'h'\n",
       "\\item 'i'\n",
       "\\item 'm'\n",
       "\\item 'p'\n",
       "\\item 's'\n",
       "\\end{enumerate*}\n"
      ],
      "text/markdown": [
       "1. 'sh'\n",
       "2. 'ch'\n",
       "3. 'sch'\n",
       "4. 'ie'\n",
       "5. 'oo'\n",
       "6. 'a'\n",
       "7. 'c'\n",
       "8. 'e'\n",
       "9. 'f'\n",
       "10. 'h'\n",
       "11. 'i'\n",
       "12. 'm'\n",
       "13. 'p'\n",
       "14. 's'\n",
       "\n",
       "\n"
      ],
      "text/plain": [
       " [1] \"sh\"  \"ch\"  \"sch\" \"ie\"  \"oo\"  \"a\"   \"c\"   \"e\"   \"f\"   \"h\"   \"i\"   \"m\"  \n",
       "[13] \"p\"   \"s\"  "
      ]
     },
     "metadata": {},
     "output_type": "display_data"
    }
   ],
   "source": [
    "# extend the profile with multigraphs\n",
    "profile <- c(\"sh\", \"ch\", \"sch\", \"ie\", \"oo\", profile)\n",
    "profile"
   ]
  },
  {
   "cell_type": "code",
   "execution_count": 16,
   "metadata": {},
   "outputs": [
    {
     "data": {
      "text/html": [
       "<table>\n",
       "<thead><tr><th scope=col>originals</th><th scope=col>tokenized</th></tr></thead>\n",
       "<tbody>\n",
       "\t<tr><td>mishmash     </td><td>m i sh m a sh</td></tr>\n",
       "\t<tr><td>mishap       </td><td>m i sh a p   </td></tr>\n",
       "\t<tr><td>mischief     </td><td>m i sch ie f </td></tr>\n",
       "\t<tr><td>scheme       </td><td>sch e m e    </td></tr>\n",
       "</tbody>\n",
       "</table>\n"
      ],
      "text/latex": [
       "\\begin{tabular}{r|ll}\n",
       " originals & tokenized\\\\\n",
       "\\hline\n",
       "\t mishmash      & m i sh m a sh\\\\\n",
       "\t mishap        & m i sh a p   \\\\\n",
       "\t mischief      & m i sch ie f \\\\\n",
       "\t scheme        & sch e m e    \\\\\n",
       "\\end{tabular}\n"
      ],
      "text/markdown": [
       "\n",
       "originals | tokenized | \n",
       "|---|---|---|---|\n",
       "| mishmash      | m i sh m a sh | \n",
       "| mishap        | m i sh a p    | \n",
       "| mischief      | m i sch ie f  | \n",
       "| scheme        | sch e m e     | \n",
       "\n",
       "\n"
      ],
      "text/plain": [
       "  originals tokenized    \n",
       "1 mishmash  m i sh m a sh\n",
       "2 mishap    m i sh a p   \n",
       "3 mischief  m i sch ie f \n",
       "4 scheme    sch e m e    "
      ]
     },
     "metadata": {},
     "output_type": "display_data"
    }
   ],
   "source": [
    "# use the profile to tokenize\n",
    "tokenize(example, profile)$strings"
   ]
  }
 ],
 "metadata": {
  "kernelspec": {
   "display_name": "R",
   "language": "R",
   "name": "ir"
  },
  "language_info": {
   "codemirror_mode": "r",
   "file_extension": ".r",
   "mimetype": "text/x-r-source",
   "name": "R",
   "pygments_lexer": "r",
   "version": "3.5.0"
  }
 },
 "nbformat": 4,
 "nbformat_minor": 2
}
